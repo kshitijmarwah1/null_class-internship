from textblob import TextBlob
import pandas as pd
from sklearn.metrics import classification_report, confusion_matrix, ConfusionMatrixDisplay
import matplotlib.pyplot as plt

def analyze_sentiment(text):
    """Analyzes the sentiment of a given text and returns 'positive', 'negative', or 'neutral'."""
    blob = TextBlob(text)
    polarity = blob.sentiment.polarity
    if polarity > 0:
        return "positive"
    elif polarity < 0:
        return "negative"
    else:
        return "neutral"

def generate_response(user_input):
    """Generates a chatbot response based on the sentiment of the user's input."""
    sentiment = analyze_sentiment(user_input)
    if sentiment == "positive":
        return "😊 I'm glad to hear that!"
    elif sentiment == "negative":
        return "😔 I'm sorry to hear that. Is there anything I can do to help?"
    else:
        return "🤔 Got it! Let me know if you'd like to talk more."


user_input = "I am feeling great today!"
print("User:", user_input)
print("Chatbot:", generate_response(user_input))

user_input_2 = "This is the worst service I have ever received."
print("\nUser:", user_input_2)
print("Chatbot:", generate_response(user_input_2))

print("\n" + "="*50)
print("PERFORMANCE EVALUATION")
print("="*50 + "\n")

# Step 1: Create a sample labeled dataset
data = {
    'text': [
        'I love this product, it is amazing!',
        'This is the worst experience ever.',
        'The movie was okay, not great but not terrible.',
        'I am so happy with the results.',
        'I am feeling very sad and disappointed.',
        'The weather is nice today.',
        'He is a fantastic and brilliant person.',
        'This is a complete disaster.',
        'The book is quite long.',
        'What a wonderful surprise!'
    ],
    'true_sentiment': [
        'positive',
        'negative',
        'neutral',
        'positive',
        'negative',
        'neutral',
        'positive',
        'negative',
        'neutral',
        'positive'
    ]
}
df = pd.DataFrame(data)

# Step 2: Get predictions from our function
df['predicted_sentiment'] = df['text'].apply(analyze_sentiment)

print("Evaluation Dataset with Predictions:")
print(df)

# Generate and display the classification report
print("\nClassification Report:")
report = classification_report(df['true_sentiment'], df['predicted_sentiment'])
print(report)

# Generate and display the confusion matrix
print("Confusion Matrix:")
cm = confusion_matrix(df['true_sentiment'], df['predicted_sentiment'], labels=['positive', 'negative', 'neutral'])
disp = ConfusionMatrixDisplay(confusion_matrix=cm, display_labels=['positive', 'negative', 'neutral'])
disp.plot(cmap=plt.cm.Blues)
plt.show()